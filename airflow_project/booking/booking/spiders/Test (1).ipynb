{
 "cells": [
  {
   "cell_type": "code",
   "execution_count": 1,
   "metadata": {},
   "outputs": [],
   "source": [
    "import pandas as pd\n",
    "import json"
   ]
  },
  {
   "cell_type": "code",
   "execution_count": 2,
   "metadata": {},
   "outputs": [
    {
     "name": "stdout",
     "output_type": "stream",
     "text": [
      "__init__.py  middlewares.py  __pycache__  spiders\n",
      "items.py     pipelines.py    settings.py  test.ipynb\n"
     ]
    }
   ],
   "source": [
    "!ls"
   ]
  },
  {
   "cell_type": "code",
   "execution_count": 3,
   "metadata": {},
   "outputs": [],
   "source": [
    "graphql = json.load(open('../test.json'))"
   ]
  },
  {
   "cell_type": "code",
   "execution_count": 4,
   "metadata": {},
   "outputs": [],
   "source": [
    "graphql = graphql['Viet Nam']"
   ]
  },
  {
   "cell_type": "code",
   "execution_count": 6,
   "metadata": {},
   "outputs": [
    {
     "data": {
      "text/plain": [
       "1075"
      ]
     },
     "execution_count": 6,
     "metadata": {},
     "output_type": "execute_result"
    }
   ],
   "source": [
    "# get [\"basicPropertyData\"][\"pageName\"] from each item in each graphql\n",
    "pageNames = []\n",
    "for item in graphql:\n",
    "    pageNames.append(item[\"basicPropertyData\"]['pageName'])\n",
    "# Remove duplicates\n",
    "pageNames = list(set(pageNames))\n",
    "len(pageNames)"
   ]
  },
  {
   "cell_type": "code",
   "execution_count": 1,
   "metadata": {},
   "outputs": [
    {
     "name": "stdout",
     "output_type": "stream",
     "text": [
      "Dates have been updated and saved to the output file.\n"
     ]
    }
   ],
   "source": [
    "import json\n",
    "from datetime import datetime, timedelta\n",
    "\n",
    "# Function to add one day to a date string\n",
    "def add_one_day(date_str):\n",
    "    date_format = \"%Y-%m-%d\"\n",
    "    date_obj = datetime.strptime(date_str, date_format)\n",
    "    new_date_obj = date_obj + timedelta(days=1)\n",
    "    return new_date_obj.strftime(date_format)\n",
    "\n",
    "# Path to the input and output files\n",
    "input_file_path = \"/Users/mac/HCMUS/ItelligentAnalApp/project/airflow_project/booking/hotel_data/2024-10-31-RoomPriceItem.jl\"\n",
    "output_file_path = \"/Users/mac/HCMUS/ItelligentAnalApp/project/airflow_project/booking/hotel_data/2024-11-01-RoomPriceItem.jl\"\n",
    "\n",
    "# Read the JSON data from the file\n",
    "with open(input_file_path, 'r') as input_file:\n",
    "    data = input_file.read()\n",
    "\n",
    "# Split the data into individual JSON objects\n",
    "json_objects = data.split('\\n')\n",
    "\n",
    "# Modify the checkin and checkout dates\n",
    "modified_json_objects = []\n",
    "for json_str in json_objects:\n",
    "    if json_str.strip():  # Check if the line is not empty\n",
    "        entry = json.loads(json_str)\n",
    "        entry[\"checkin\"] = add_one_day(entry[\"checkin\"])\n",
    "        entry[\"checkout\"] = add_one_day(entry[\"checkout\"])\n",
    "        modified_json_objects.append(json.dumps(entry))\n",
    "\n",
    "# Write the modified JSON objects back to the file, each on a new line\n",
    "with open(output_file_path, 'w') as output_file:\n",
    "    for json_str in modified_json_objects:\n",
    "        output_file.write(json_str + '\\n')\n",
    "\n",
    "print(\"Dates have been updated and saved to the output file.\")"
   ]
  },
  {
   "cell_type": "code",
   "execution_count": 4,
   "metadata": {},
   "outputs": [
    {
     "data": {
      "text/plain": [
       "'2024-11-01'"
      ]
     },
     "execution_count": 4,
     "metadata": {},
     "output_type": "execute_result"
    }
   ],
   "source": [
    "CURRENT_DATE = datetime.now()\n",
    "\n",
    "# Increase the current date and time by 7 hours\n",
    "CURRENT_DATE -= timedelta(days=1)\n",
    "CURRENT_DATE = CURRENT_DATE.strftime(\"%Y-%m-%d\")\n",
    "CURRENT_DATE"
   ]
  }
 ],
 "metadata": {
  "kernelspec": {
   "display_name": "ai_env",
   "language": "python",
   "name": "python3"
  },
  "language_info": {
   "codemirror_mode": {
    "name": "ipython",
    "version": 3
   },
   "file_extension": ".py",
   "mimetype": "text/x-python",
   "name": "python",
   "nbconvert_exporter": "python",
   "pygments_lexer": "ipython3",
   "version": "3.12.4"
  }
 },
 "nbformat": 4,
 "nbformat_minor": 2
}
