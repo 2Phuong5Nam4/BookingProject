{
 "cells": [
  {
   "cell_type": "code",
   "execution_count": 20,
   "metadata": {},
   "outputs": [],
   "source": [
    "import pandas as pd\n",
    "import json"
   ]
  },
  {
   "cell_type": "code",
   "execution_count": 21,
   "metadata": {},
   "outputs": [
    {
     "name": "stdout",
     "output_type": "stream",
     "text": [
      "2024-10-19-AccommodationItem.csv   2024-10-24-AccommodationItem.json\n",
      "2024-10-19-RoomPriceItem.csv\t   2024-10-25-AccommodationItem.json\n",
      "2024-10-20-AccommodationItem.csv   2024-10-27-AccommodationItem.json\n",
      "2024-10-20-RoomPriceItem.csv\t   2024-10-27-RoomPriceItem.json\n",
      "2024-10-22-AccommodationItem.csv   2024-10-28-AccommodationItem.json\n",
      "2024-10-23-AccommodationItem.json  2024-10-28-RoomPriceItem.json\n",
      "2024-10-23-RoomPriceItem.json\t   url.json\n"
     ]
    }
   ],
   "source": [
    "!ls ../hotel_data/"
   ]
  },
  {
   "cell_type": "markdown",
   "metadata": {},
   "source": []
  },
  {
   "cell_type": "code",
   "execution_count": 22,
   "metadata": {},
   "outputs": [],
   "source": [
    "from datetime import datetime\n",
    "current_date = datetime.now()\n",
    "# Read and parse the JSON file line by line\n",
    "data = []\n",
    "num_lines_error = 0\n",
    "current_line = 0\n",
    "with open(f\"../hotel_data/2024-10-28-RoomPriceItem.json\") as file:\n",
    "    data = json.load(file)\n",
    "pandas_data = pd.DataFrame(data)"
   ]
  },
  {
   "cell_type": "code",
   "execution_count": 23,
   "metadata": {},
   "outputs": [
    {
     "data": {
      "text/html": [
       "<div>\n",
       "<style scoped>\n",
       "    .dataframe tbody tr th:only-of-type {\n",
       "        vertical-align: middle;\n",
       "    }\n",
       "\n",
       "    .dataframe tbody tr th {\n",
       "        vertical-align: top;\n",
       "    }\n",
       "\n",
       "    .dataframe thead th {\n",
       "        text-align: right;\n",
       "    }\n",
       "</style>\n",
       "<table border=\"1\" class=\"dataframe\">\n",
       "  <thead>\n",
       "    <tr style=\"text-align: right;\">\n",
       "      <th></th>\n",
       "      <th>accommodationId</th>\n",
       "      <th>checkin</th>\n",
       "      <th>checkout</th>\n",
       "      <th>roomId</th>\n",
       "      <th>roomName</th>\n",
       "      <th>price</th>\n",
       "      <th>beds</th>\n",
       "      <th>roomArea</th>\n",
       "      <th>discount</th>\n",
       "      <th>numGuests</th>\n",
       "    </tr>\n",
       "  </thead>\n",
       "  <tbody>\n",
       "    <tr>\n",
       "      <th>0</th>\n",
       "      <td>11288858</td>\n",
       "      <td>2024-10-28</td>\n",
       "      <td>2024-10-29</td>\n",
       "      <td>1128885801</td>\n",
       "      <td>One-Bedroom Apartment</td>\n",
       "      <td>1200000</td>\n",
       "      <td>[1 double bed]</td>\n",
       "      <td>36 m²</td>\n",
       "      <td>None</td>\n",
       "      <td>Max persons: 2</td>\n",
       "    </tr>\n",
       "    <tr>\n",
       "      <th>1</th>\n",
       "      <td>11334623</td>\n",
       "      <td>2024-10-28</td>\n",
       "      <td>2024-10-29</td>\n",
       "      <td>1133462301</td>\n",
       "      <td>Deluxe Double Room with Balcony</td>\n",
       "      <td>490000</td>\n",
       "      <td>[1 large double bed]</td>\n",
       "      <td>24 m²</td>\n",
       "      <td>None</td>\n",
       "      <td>Max persons: 2</td>\n",
       "    </tr>\n",
       "    <tr>\n",
       "      <th>2</th>\n",
       "      <td>4212701</td>\n",
       "      <td>2024-10-28</td>\n",
       "      <td>2024-10-29</td>\n",
       "      <td>421270101</td>\n",
       "      <td>Apartment</td>\n",
       "      <td>1560000</td>\n",
       "      <td>[1 extra-large double bed]</td>\n",
       "      <td>80 m²</td>\n",
       "      <td>None</td>\n",
       "      <td>Max persons: 2</td>\n",
       "    </tr>\n",
       "    <tr>\n",
       "      <th>3</th>\n",
       "      <td>9019779</td>\n",
       "      <td>2024-10-28</td>\n",
       "      <td>2024-10-29</td>\n",
       "      <td>901977904</td>\n",
       "      <td>Superior Double Room</td>\n",
       "      <td>516600</td>\n",
       "      <td>[1 large double bed]</td>\n",
       "      <td>19 m²</td>\n",
       "      <td>30% off</td>\n",
       "      <td>Max persons: 2</td>\n",
       "    </tr>\n",
       "    <tr>\n",
       "      <th>4</th>\n",
       "      <td>9019779</td>\n",
       "      <td>2024-10-28</td>\n",
       "      <td>2024-10-29</td>\n",
       "      <td>901977905</td>\n",
       "      <td>Twin Room</td>\n",
       "      <td>516600</td>\n",
       "      <td>[2 single beds]</td>\n",
       "      <td>19 m²</td>\n",
       "      <td>30% off</td>\n",
       "      <td>Max persons: 2</td>\n",
       "    </tr>\n",
       "  </tbody>\n",
       "</table>\n",
       "</div>"
      ],
      "text/plain": [
       "   accommodationId     checkin    checkout      roomId  \\\n",
       "0         11288858  2024-10-28  2024-10-29  1128885801   \n",
       "1         11334623  2024-10-28  2024-10-29  1133462301   \n",
       "2          4212701  2024-10-28  2024-10-29   421270101   \n",
       "3          9019779  2024-10-28  2024-10-29   901977904   \n",
       "4          9019779  2024-10-28  2024-10-29   901977905   \n",
       "\n",
       "                          roomName    price                        beds  \\\n",
       "0            One-Bedroom Apartment  1200000              [1 double bed]   \n",
       "1  Deluxe Double Room with Balcony   490000        [1 large double bed]   \n",
       "2                        Apartment  1560000  [1 extra-large double bed]   \n",
       "3             Superior Double Room   516600        [1 large double bed]   \n",
       "4                        Twin Room   516600             [2 single beds]   \n",
       "\n",
       "  roomArea discount       numGuests  \n",
       "0    36 m²     None  Max persons: 2  \n",
       "1    24 m²     None  Max persons: 2  \n",
       "2    80 m²     None  Max persons: 2  \n",
       "3    19 m²  30% off  Max persons: 2  \n",
       "4    19 m²  30% off  Max persons: 2  "
      ]
     },
     "execution_count": 23,
     "metadata": {},
     "output_type": "execute_result"
    }
   ],
   "source": [
    "pandas_data.head()"
   ]
  },
  {
   "cell_type": "code",
   "execution_count": 24,
   "metadata": {},
   "outputs": [
    {
     "data": {
      "text/plain": [
       "94"
      ]
     },
     "execution_count": 24,
     "metadata": {},
     "output_type": "execute_result"
    }
   ],
   "source": [
    "# count number of rooms\n",
    "room_count = pandas_data['accommodationId'].nunique()\n",
    "room_count"
   ]
  },
  {
   "cell_type": "code",
   "execution_count": 25,
   "metadata": {},
   "outputs": [],
   "source": [
    "url = pd.read_json('../hotel_data/url.json')"
   ]
  },
  {
   "cell_type": "code",
   "execution_count": 26,
   "metadata": {},
   "outputs": [
    {
     "name": "stdout",
     "output_type": "stream",
     "text": [
      "Min checkin: 2024-10-28 00:00:00, Max checkin: 2024-11-16 00:00:00\n",
      "Time difference: 19 days 00:00:00\n"
     ]
    }
   ],
   "source": [
    "# convert checkin and checkout to datetime\n",
    "pandas_data['checkin'] = pd.to_datetime(pandas_data['checkin'])\n",
    "pandas_data['checkout'] = pd.to_datetime(pandas_data['checkout'])\n",
    "#min and max checkin \n",
    "min_checkin = pandas_data['checkin'].min()\n",
    "max_checkin = pandas_data['checkin'].max()\n",
    "print(f\"Min checkin: {min_checkin}, Max checkin: {max_checkin}\")\n",
    "print(f\"Time difference: {max_checkin - min_checkin}\")"
   ]
  },
  {
   "cell_type": "code",
   "execution_count": 27,
   "metadata": {},
   "outputs": [
    {
     "data": {
      "text/plain": [
       "[Timedelta('19 days 00:00:00'),\n",
       " Timedelta('3 days 00:00:00'),\n",
       " Timedelta('19 days 00:00:00'),\n",
       " Timedelta('19 days 00:00:00'),\n",
       " Timedelta('19 days 00:00:00'),\n",
       " Timedelta('19 days 00:00:00'),\n",
       " Timedelta('19 days 00:00:00'),\n",
       " Timedelta('19 days 00:00:00'),\n",
       " Timedelta('19 days 00:00:00'),\n",
       " Timedelta('19 days 00:00:00'),\n",
       " Timedelta('19 days 00:00:00'),\n",
       " Timedelta('19 days 00:00:00'),\n",
       " Timedelta('19 days 00:00:00'),\n",
       " Timedelta('19 days 00:00:00'),\n",
       " Timedelta('19 days 00:00:00'),\n",
       " Timedelta('19 days 00:00:00'),\n",
       " Timedelta('19 days 00:00:00'),\n",
       " Timedelta('19 days 00:00:00'),\n",
       " Timedelta('19 days 00:00:00'),\n",
       " Timedelta('18 days 00:00:00'),\n",
       " Timedelta('19 days 00:00:00'),\n",
       " Timedelta('19 days 00:00:00'),\n",
       " Timedelta('19 days 00:00:00'),\n",
       " Timedelta('19 days 00:00:00'),\n",
       " Timedelta('19 days 00:00:00'),\n",
       " Timedelta('19 days 00:00:00'),\n",
       " Timedelta('19 days 00:00:00'),\n",
       " Timedelta('19 days 00:00:00'),\n",
       " Timedelta('19 days 00:00:00'),\n",
       " Timedelta('19 days 00:00:00'),\n",
       " Timedelta('19 days 00:00:00'),\n",
       " Timedelta('19 days 00:00:00'),\n",
       " Timedelta('19 days 00:00:00'),\n",
       " Timedelta('19 days 00:00:00'),\n",
       " Timedelta('19 days 00:00:00'),\n",
       " Timedelta('19 days 00:00:00'),\n",
       " Timedelta('19 days 00:00:00'),\n",
       " Timedelta('17 days 00:00:00'),\n",
       " Timedelta('19 days 00:00:00'),\n",
       " Timedelta('19 days 00:00:00'),\n",
       " Timedelta('19 days 00:00:00'),\n",
       " Timedelta('19 days 00:00:00'),\n",
       " Timedelta('19 days 00:00:00'),\n",
       " Timedelta('19 days 00:00:00'),\n",
       " Timedelta('19 days 00:00:00'),\n",
       " Timedelta('19 days 00:00:00'),\n",
       " Timedelta('19 days 00:00:00'),\n",
       " Timedelta('19 days 00:00:00'),\n",
       " Timedelta('19 days 00:00:00'),\n",
       " Timedelta('19 days 00:00:00'),\n",
       " Timedelta('19 days 00:00:00'),\n",
       " Timedelta('19 days 00:00:00'),\n",
       " Timedelta('19 days 00:00:00'),\n",
       " Timedelta('19 days 00:00:00'),\n",
       " Timedelta('19 days 00:00:00'),\n",
       " Timedelta('19 days 00:00:00'),\n",
       " Timedelta('19 days 00:00:00'),\n",
       " Timedelta('19 days 00:00:00'),\n",
       " Timedelta('19 days 00:00:00'),\n",
       " Timedelta('19 days 00:00:00'),\n",
       " Timedelta('19 days 00:00:00'),\n",
       " Timedelta('3 days 00:00:00'),\n",
       " Timedelta('19 days 00:00:00'),\n",
       " Timedelta('19 days 00:00:00'),\n",
       " Timedelta('17 days 00:00:00'),\n",
       " Timedelta('19 days 00:00:00'),\n",
       " Timedelta('3 days 00:00:00'),\n",
       " Timedelta('19 days 00:00:00'),\n",
       " Timedelta('19 days 00:00:00'),\n",
       " Timedelta('19 days 00:00:00'),\n",
       " Timedelta('18 days 00:00:00'),\n",
       " Timedelta('18 days 00:00:00'),\n",
       " Timedelta('18 days 00:00:00'),\n",
       " Timedelta('18 days 00:00:00'),\n",
       " Timedelta('18 days 00:00:00'),\n",
       " Timedelta('18 days 00:00:00'),\n",
       " Timedelta('18 days 00:00:00'),\n",
       " Timedelta('18 days 00:00:00'),\n",
       " Timedelta('18 days 00:00:00'),\n",
       " Timedelta('18 days 00:00:00'),\n",
       " Timedelta('18 days 00:00:00'),\n",
       " Timedelta('18 days 00:00:00'),\n",
       " Timedelta('18 days 00:00:00'),\n",
       " Timedelta('18 days 00:00:00'),\n",
       " Timedelta('18 days 00:00:00'),\n",
       " Timedelta('18 days 00:00:00'),\n",
       " Timedelta('17 days 00:00:00'),\n",
       " Timedelta('14 days 00:00:00'),\n",
       " Timedelta('14 days 00:00:00'),\n",
       " Timedelta('14 days 00:00:00'),\n",
       " Timedelta('12 days 00:00:00'),\n",
       " Timedelta('5 days 00:00:00'),\n",
       " Timedelta('5 days 00:00:00'),\n",
       " Timedelta('0 days 00:00:00')]"
      ]
     },
     "execution_count": 27,
     "metadata": {},
     "output_type": "execute_result"
    }
   ],
   "source": [
    "# List all time differences of each accommodation\n",
    "time_diffs = []\n",
    "for accom_id in pandas_data['accommodationId'].unique():\n",
    "    accom_data = pandas_data[pandas_data['accommodationId'] == accom_id]\n",
    "    min_checkin = accom_data['checkin'].min()\n",
    "    max_checkin = accom_data['checkin'].max()\n",
    "    time_diffs.append(max_checkin - min_checkin)\n",
    "time_diffs"
   ]
  },
  {
   "cell_type": "code",
   "execution_count": 28,
   "metadata": {},
   "outputs": [
    {
     "ename": "NameError",
     "evalue": "name 'graphql' is not defined",
     "output_type": "error",
     "traceback": [
      "\u001b[0;31m---------------------------------------------------------------------------\u001b[0m",
      "\u001b[0;31mNameError\u001b[0m                                 Traceback (most recent call last)",
      "Cell \u001b[0;32mIn[28], line 1\u001b[0m\n\u001b[0;32m----> 1\u001b[0m \u001b[38;5;28mlen\u001b[39m(\u001b[43mgraphql\u001b[49m)\n",
      "\u001b[0;31mNameError\u001b[0m: name 'graphql' is not defined"
     ]
    }
   ],
   "source": [
    "len(graphql)"
   ]
  },
  {
   "cell_type": "code",
   "execution_count": null,
   "metadata": {},
   "outputs": [],
   "source": [
    "# get [\"basicPropertyData\"][\"pageName\"] from each item in each graphql\n",
    "pageNames = []\n",
    "for item in graphql:\n",
    "    pageNames.append(item[\"basicPropertyData\"]['pageName'])\n",
    "# Remove duplicates\n",
    "pageNames = list(set(pageNames))\n",
    "len(pageNames)"
   ]
  }
 ],
 "metadata": {
  "kernelspec": {
   "display_name": "Python 3",
   "language": "python",
   "name": "python3"
  },
  "language_info": {
   "codemirror_mode": {
    "name": "ipython",
    "version": 3
   },
   "file_extension": ".py",
   "mimetype": "text/x-python",
   "name": "python",
   "nbconvert_exporter": "python",
   "pygments_lexer": "ipython3",
   "version": "3.12.6"
  }
 },
 "nbformat": 4,
 "nbformat_minor": 2
}
